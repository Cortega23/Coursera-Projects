{
 "cells": [
  {
   "cell_type": "markdown",
   "id": "f273c70d-5b45-4685-9b22-fb21010b135a",
   "metadata": {},
   "source": [
    "# Data Science Tools and Ecosystem"
   ]
  },
  {
   "cell_type": "markdown",
   "id": "e3ca01cb-8965-4352-98f5-a8a34a82d543",
   "metadata": {},
   "source": [
    "In this notebook, Data Science Tools and Ecosystem are summarized."
   ]
  },
  {
   "cell_type": "markdown",
   "id": "593b3b6c-8cf3-4822-ab3f-89062c1ca1c5",
   "metadata": {},
   "source": [
    "**Objectives:**"
   ]
  },
  {
   "cell_type": "markdown",
   "id": "216b564c-049d-4dd0-a245-986530f7f21a",
   "metadata": {},
   "source": [
    "* List of popular languages for Data Science\n",
    "* List of commonly used libraries used for Data Science\n",
    "* Example of Table creation\n",
    "* Example of evaluation of arithmetic expressions"
   ]
  },
  {
   "cell_type": "markdown",
   "id": "8cf0faef-8064-4666-afb9-9bead4c9d1cc",
   "metadata": {},
   "source": [
    "Some of the popular languages that Data Scientists use are:\n",
    "\n",
    "1. Python\n",
    "2. R\n",
    "3. Julia"
   ]
  },
  {
   "cell_type": "markdown",
   "id": "6024ee80-690b-463d-ab7a-98e3a5baaeee",
   "metadata": {},
   "source": [
    "Some of the commonly used libraries used by Data Scientists include:\n",
    "\n",
    "1. NumPy\n",
    "2. pandas\n",
    "3. SciPy\n",
    "4. Plotly\n",
    "5. PyTorch\n",
    "6. NLTK"
   ]
  },
  {
   "cell_type": "markdown",
   "id": "602171a3-de58-4a76-8957-be3f29661339",
   "metadata": {},
   "source": [
    "| Data Science Tools |\n",
    "| ----------- |\n",
    "| Jupyter Notebook |\n",
    "| RStudio |\n",
    "| VS Code |\n",
    "| Spyder |"
   ]
  },
  {
   "cell_type": "markdown",
   "id": "2d6182df-449e-4873-9263-ffbad446df56",
   "metadata": {},
   "source": [
    "### Below are a few examples of evaluating arithmetic expressions in Python"
   ]
  },
  {
   "cell_type": "markdown",
   "id": "4da5d26b-9563-4ea2-a0b7-78757df976ed",
   "metadata": {},
   "source": [
    "This a simple arithmetic expression to mutiply then add integers"
   ]
  },
  {
   "cell_type": "code",
   "execution_count": 4,
   "id": "7773a37c-1b73-4b4d-b1a4-1196b8210af2",
   "metadata": {},
   "outputs": [
    {
     "data": {
      "text/plain": [
       "17"
      ]
     },
     "execution_count": 4,
     "metadata": {},
     "output_type": "execute_result"
    }
   ],
   "source": [
    "(3*4)+5"
   ]
  },
  {
   "cell_type": "markdown",
   "id": "5c01dc0a-185e-4e73-839d-bac53a16783a",
   "metadata": {},
   "source": [
    "This will convert 200 minutes to hours by diving by 60."
   ]
  },
  {
   "cell_type": "code",
   "execution_count": 5,
   "id": "0e23217a-6167-464b-90a0-0432c0a780a3",
   "metadata": {},
   "outputs": [
    {
     "data": {
      "text/plain": [
       "3.3333333333333335"
      ]
     },
     "execution_count": 5,
     "metadata": {},
     "output_type": "execute_result"
    }
   ],
   "source": [
    "200/60"
   ]
  },
  {
   "cell_type": "markdown",
   "id": "0df22919-4adc-4db6-bec4-255303b18095",
   "metadata": {},
   "source": [
    "## Author\n",
    "Cesar Augusto Ortega Bailon"
   ]
  },
  {
   "cell_type": "code",
   "execution_count": null,
   "id": "3161c2a6-dea9-42de-a3c6-185de0cb381e",
   "metadata": {},
   "outputs": [],
   "source": []
  }
 ],
 "metadata": {
  "kernelspec": {
   "display_name": "Python 3 (ipykernel)",
   "language": "python",
   "name": "python3"
  },
  "language_info": {
   "codemirror_mode": {
    "name": "ipython",
    "version": 3
   },
   "file_extension": ".py",
   "mimetype": "text/x-python",
   "name": "python",
   "nbconvert_exporter": "python",
   "pygments_lexer": "ipython3",
   "version": "3.13.5"
  }
 },
 "nbformat": 4,
 "nbformat_minor": 5
}
